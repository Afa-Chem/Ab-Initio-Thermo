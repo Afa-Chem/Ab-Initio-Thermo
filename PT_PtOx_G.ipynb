{
 "cells": [
  {
   "cell_type": "markdown",
   "id": "d10d261e",
   "metadata": {},
   "source": [
    "# Ab Initio Thermodynamics (Pt$_2$O$_x$)\n",
    "\n",
    "\n",
    "\n",
    "$\n",
    "E_{form} (Pt_xO_y) = E(Pt_xO_y)-E(Pt_x)-\\dfrac{1}{2}yE(O_2)\n",
    "$\n",
    "\n",
    "$\n",
    "\\Delta G(T,p) \\approx \\ E_{form}(Pt_xO_y) - y \\ \\Delta \\mu_O(T,p)\n",
    "$\n",
    "\n",
    "$\n",
    "\\Delta \\mu_O (T,p) = \\mu_O(T,p) - \\dfrac{1}{2}E(O_2)\n",
    "$\n",
    "\n",
    "$\n",
    "\\mu_O(T,p) = \\mu_O(T,p^0) + \\dfrac{1}{2}  k T \\ log(p/p^0)\n",
    "$"
   ]
  },
  {
   "cell_type": "code",
   "execution_count": 21,
   "id": "cd0df224",
   "metadata": {},
   "outputs": [],
   "source": [
    "import numpy as np\n",
    "import matplotlib.pyplot as plt \n",
    "from ase.thermochemistry import IdealGasThermo\n",
    "from ase.io import read"
   ]
  },
  {
   "cell_type": "code",
   "execution_count": 22,
   "id": "580a63f5",
   "metadata": {},
   "outputs": [],
   "source": [
    "# Experimental data\n",
    "\n",
    "data = np.array(np.loadtxt(\"O2_JANAF_0-1000.txt\",dtype=np.float64, skiprows=2))\n",
    "T = data[:,0]\n",
    "S = data[:,2]*1.0364E-5\n",
    "dH = data[:,4]\n",
    "dH_zero = (dH-dH[0])*0.01036427230133138\n",
    "G = (dH_zero - T*S)/2"
   ]
  },
  {
   "cell_type": "code",
   "execution_count": 23,
   "id": "17d24b3b",
   "metadata": {},
   "outputs": [],
   "source": [
    "# interpolating the experimental values\n",
    "\n",
    "G3 = np.linspace(G[2],G[3],50, endpoint=False)\n",
    "G4 = np.linspace(G[3],G[5],50, endpoint=False)\n",
    "G5 = np.linspace(G[5],G[6],50, endpoint=False)\n",
    "G6 = np.linspace(G[6],G[7],50, endpoint=False)\n",
    "G7 = np.linspace(G[7],G[8],50, endpoint=False)\n",
    "G8 = np.linspace(G[8],G[9],50, endpoint=False)\n",
    "G9 = np.linspace(G[9],G[10],100, endpoint=False)\n",
    "G10 = np.linspace(G[10],G[11],100, endpoint=False)\n",
    "G11 = np.linspace(G[11],G[12],100, endpoint=False)\n",
    "G12 = np.linspace(G[12],G[13],100, endpoint=False)\n",
    "G13 = np.linspace(G[13],G[14],101)\n",
    "\n",
    "G_O2 = np.concatenate((G3,G4,G5,G6,G7,G8,G9,G10,G11,G12,G13))\n",
    "\n",
    "# Temperatures\n",
    "T = np.linspace(200,1000,801)\n",
    "\n",
    "# pressure values\n",
    "p = np.logspace(-12, 0, num=1001)"
   ]
  },
  {
   "cell_type": "code",
   "execution_count": 24,
   "id": "0eef0511",
   "metadata": {},
   "outputs": [],
   "source": [
    "def mu_O(p,T,G):\n",
    "    k = 8.61733262e-05  # in eV\n",
    "    p0 = 1   # bar\n",
    "    p_part = 0.5*k*T*np.log(p/p0)\n",
    "    mu_O = G + p_part\n",
    "    return mu_O\n"
   ]
  },
  {
   "cell_type": "code",
   "execution_count": 25,
   "id": "60357262",
   "metadata": {},
   "outputs": [],
   "source": [
    "# Total energies from DFT calculations (PBE/PAW)\n",
    "\n",
    "E_O2 = -9.86450898\n",
    "E_Pt2 = -4.91635487\n",
    "E_Pt2O1 = -11.36464802\n",
    "E_Pt2O2 = -18.49769161\n",
    "E_Pt2O3 = -24.82390554\n",
    "E_Pt2O4 = -30.35419064"
   ]
  },
  {
   "cell_type": "code",
   "execution_count": 26,
   "id": "34f4f23d",
   "metadata": {},
   "outputs": [],
   "source": [
    "# Pt2 \n",
    "\n",
    "Pt2_atoms = read(r\"Pt2.vasp\")\n",
    "Pt2_vibs = np.array([235.194746])  # vibrations\n",
    "Pt2_vib_energies = Pt2_vibs / 8065.54429  # convert to eV from cm^-1\n",
    "Pt2_thermo = IdealGasThermo(vib_energies=Pt2_vib_energies,\n",
    "                        atoms=Pt2_atoms,\n",
    "                        geometry='linear',\n",
    "                        symmetrynumber=2, spin=1)\n",
    "\n",
    "G_Pt2 = []\n",
    "for i in range(len(T)):  # runs on temperatures\n",
    "    for j in range(len(p)):  # runs on pressures\n",
    "        G = Pt2_thermo.get_gibbs_energy(temperature=T[i], pressure=p[j], verbose=False)\n",
    "        G_Pt2.append(G)\n"
   ]
  },
  {
   "cell_type": "code",
   "execution_count": 27,
   "id": "7b1f48b7",
   "metadata": {},
   "outputs": [],
   "source": [
    "# Pt2O1 \n",
    "\n",
    "Pt2O1_atoms = read(r\"Pt2O1.vasp\")\n",
    "Pt2O1_vibs = np.array([853.579219, 233.514075,81.814339]) #Vibrations\n",
    "Pt2O1_vib_energies = Pt2O1_vibs / 8065.54429  # convert to eV from cm^-1\n",
    "Pt2O1_thermo = IdealGasThermo(vib_energies=Pt2O1_vib_energies,\n",
    "                        atoms=Pt2O1_atoms,\n",
    "                        geometry='nonlinear',\n",
    "                        symmetrynumber=1, spin=1)\n",
    "\n",
    "G_Pt2O1 = []\n",
    "for i in range(len(T)):  # runs on temperatures\n",
    "    for j in range(len(p)):  # runs on pressures\n",
    "        G = Pt2O1_thermo.get_gibbs_energy(temperature=T[i], pressure=p[j], verbose=False)\n",
    "        G_Pt2O1.append(G)\n"
   ]
  },
  {
   "cell_type": "code",
   "execution_count": 28,
   "id": "7f18e733",
   "metadata": {},
   "outputs": [],
   "source": [
    "# Pt2O2 \n",
    "\n",
    "Pt2O2_atoms = read(r\"Pt2O2.vasp\")\n",
    "Pt2O2_vibs = np.array([897.876707,\n",
    "                       733.133139,\n",
    "                       560.064989,\n",
    "                       190.872897,\n",
    "                       145.629593,\n",
    "                       128.346115])\n",
    "Pt2O2_vib_energies = Pt2O2_vibs / 8065.54429  # convert to eV from cm^-1\n",
    "Pt2O2_thermo = IdealGasThermo(vib_energies=Pt2O2_vib_energies,\n",
    "                        atoms=Pt2O2_atoms,\n",
    "                        geometry='nonlinear',\n",
    "                        symmetrynumber=1, spin=0)\n",
    "\n",
    "G_Pt2O2 = []\n",
    "for i in range(len(T)):  # runs on temperatures\n",
    "    for j in range(len(p)):  # runs on pressures\n",
    "        G = Pt2O2_thermo.get_gibbs_energy(temperature=T[i], pressure=p[j], verbose=False)\n",
    "        G_Pt2O2.append(G)"
   ]
  },
  {
   "cell_type": "code",
   "execution_count": 29,
   "id": "3fd6a518",
   "metadata": {},
   "outputs": [],
   "source": [
    "# Pt2O3 \n",
    "\n",
    "Pt2O3_atoms = read(r\"Pt2O3.vasp\")\n",
    "Pt2O3_vibs = np.array([881.567672,\n",
    "                       829.116228,\n",
    "                       755.575515,\n",
    "                       433.284995,\n",
    "                       240.489622,\n",
    "                       169.161925,\n",
    "                       138.749050,\n",
    "                       119.145784,\n",
    "                       98.731801])\n",
    "Pt2O3_vib_energies =  Pt2O3_vibs / 8065.54429  # convert to eV from cm^-1\n",
    "Pt2O3_thermo = IdealGasThermo(vib_energies=Pt2O3_vib_energies,\n",
    "                        atoms=Pt2O3_atoms,\n",
    "                        geometry='nonlinear',\n",
    "                        symmetrynumber=2, spin=1)\n",
    "\n",
    "G_Pt2O3 = []\n",
    "for i in range(len(T)):  # runs on temperatures\n",
    "    for j in range(len(p)):  # runs on pressures\n",
    "        G = Pt2O3_thermo.get_gibbs_energy(temperature=T[i], pressure=p[j], verbose=False)\n",
    "        G_Pt2O3.append(G)"
   ]
  },
  {
   "cell_type": "code",
   "execution_count": 31,
   "id": "3d771315",
   "metadata": {},
   "outputs": [],
   "source": [
    "# Pt2O4 \n",
    "\n",
    "Pt2O4_atoms = read(r\"Pt2O4.vasp\")\n",
    "Pt2O4_vibs = np.array([899.567861,\n",
    "                       879.232294,\n",
    "                       675.953029,\n",
    "                       565.802740,\n",
    "                       507.999674,\n",
    "                       445.915778,\n",
    "                       282.607450,\n",
    "                       224.235997,\n",
    "                       180.296472,\n",
    "                       142.752434,\n",
    "                       130.952672,\n",
    "                       96.099011])\n",
    "Pt2O4_vib_energies = Pt2O4_vibs / 8065.54429  # convert to eV from cm^-1\n",
    "Pt2O4_thermo = IdealGasThermo(vib_energies=Pt2O4_vib_energies,\n",
    "                        atoms=Pt2O4_atoms,\n",
    "                        geometry='nonlinear',\n",
    "                        symmetrynumber=2, spin=1)\n",
    "\n",
    "G_Pt2O4 = []\n",
    "for i in range(len(T)):  # runs on temperatures\n",
    "    for j in range(len(p)):  # runs on pressures\n",
    "        G = Pt2O4_thermo.get_gibbs_energy(temperature=T[i], pressure=p[j], verbose=False)\n",
    "        G_Pt2O4.append(G)"
   ]
  },
  {
   "cell_type": "code",
   "execution_count": 32,
   "id": "4b436b08",
   "metadata": {},
   "outputs": [],
   "source": [
    "# pT and oxygen potential\n",
    "\n",
    "pT = []\n",
    "for i in range(len(T)):  # runs on temperatures\n",
    "    for j in range(len(p)):  # runs on pressures\n",
    "        ji = [p[j],T[i]]\n",
    "        pT.append(ji)\n",
    "\n",
    "potential_oxygen = []\n",
    "for i in range(len(T)):  # runs on temperatures\n",
    "    for j in range(len(p)):  # runs on pressures\n",
    "        potential_ith = mu_O(p[j],T[i],G_O2[i])\n",
    "        potential_oxygen.append(potential_ith)"
   ]
  },
  {
   "cell_type": "code",
   "execution_count": 33,
   "id": "689a927d",
   "metadata": {},
   "outputs": [],
   "source": [
    "omega_Pt2O1 = []\n",
    "for k in range(len(pT)): \n",
    "    omega_cluster = (E_Pt2O1 + G_Pt2O1[k]) - (E_Pt2 + G_Pt2[k]) - (1*(potential_oxygen[k] + 0.5*E_O2))\n",
    "    omega_Pt2O1.append(omega_cluster)\n",
    "\n",
    "omega_Pt2O2 = []\n",
    "for k in range(len(pT)): \n",
    "    omega_cluster = (E_Pt2O2 + G_Pt2O2[k]) - (E_Pt2 + G_Pt2[k]) - (2*(potential_oxygen[k] + 0.5*E_O2))\n",
    "    omega_Pt2O2.append(omega_cluster)\n",
    "\n",
    "omega_Pt2O3 = []\n",
    "for k in range(len(pT)): \n",
    "    omega_cluster = (E_Pt2O3 + G_Pt2O3[k]) - (E_Pt2 + G_Pt2[k]) - (3*(potential_oxygen[k] + 0.5*E_O2))\n",
    "    omega_Pt2O3.append(omega_cluster)\n",
    "    \n",
    "omega_Pt2O4 = []\n",
    "for k in range(len(pT)): \n",
    "    omega_cluster = (E_Pt2O4 + G_Pt2O4[k]) - (E_Pt2 + G_Pt2[k]) - (4*(potential_oxygen[k] + 0.5*E_O2))\n",
    "    omega_Pt2O4.append(omega_cluster)\n",
    "\n",
    "        \n",
    "# Pt2\n",
    "omega_Pt2 = np.zeros(len(omega_Pt2O4))"
   ]
  },
  {
   "cell_type": "code",
   "execution_count": 34,
   "id": "13edb9de",
   "metadata": {},
   "outputs": [],
   "source": [
    "# Comparison \n",
    "\n",
    "min_Pt2 = []\n",
    "min_Pt2O1 = []\n",
    "min_Pt2O2 = []\n",
    "min_Pt2O3 = []\n",
    "min_Pt2O4 = []\n",
    "\n",
    "for k in range(len(omega_Pt2)):\n",
    "    omega_cluster = [omega_Pt2[k],omega_Pt2O1[k],omega_Pt2O2[k],omega_Pt2O3[k],omega_Pt2O4[k]]\n",
    "    min_cluster = omega_cluster.index(min(omega_cluster))\n",
    "    if min_cluster == 0:\n",
    "        min_Pt2.append(pT[k])\n",
    "    elif min_cluster == 1:\n",
    "        min_Pt2O1.append(pT[k])\n",
    "    elif min_cluster == 2:\n",
    "        min_Pt2O2.append(pT[k])\n",
    "    elif min_cluster == 3:\n",
    "        min_Pt2O3.append(pT[k])\n",
    "    elif min_cluster == 4:\n",
    "        min_Pt2O4.append(pT[k])"
   ]
  },
  {
   "cell_type": "code",
   "execution_count": 35,
   "id": "50232b9f",
   "metadata": {},
   "outputs": [],
   "source": [
    "p_Pt2 = [row[0] for row in min_Pt2]\n",
    "T_Pt2 = [row[1] for row in min_Pt2]\n",
    "\n",
    "p_Pt2O1 = [row[0] for row in min_Pt2O1]\n",
    "T_Pt2O1 = [row[1] for row in min_Pt2O1]\n",
    "\n",
    "p_Pt2O2 = [row[0] for row in min_Pt2O2]\n",
    "T_Pt2O2 = [row[1] for row in min_Pt2O2]\n",
    "\n",
    "p_Pt2O3 = [row[0] for row in min_Pt2O3]\n",
    "T_Pt2O3 = [row[1] for row in min_Pt2O3]\n",
    "\n",
    "p_Pt2O4 = [row[0] for row in min_Pt2O4]\n",
    "T_Pt2O4 = [row[1] for row in min_Pt2O4]"
   ]
  },
  {
   "cell_type": "code",
   "execution_count": 40,
   "id": "de7b0987",
   "metadata": {
    "scrolled": false
   },
   "outputs": [
    {
     "data": {
      "image/png": "[encoded data removed]",
      "text/plain": [
       "<Figure size 800x400 with 1 Axes>"
      ]
     },
     "metadata": {},
     "output_type": "display_data"
    }
   ],
   "source": [
    "fig = plt.figure(figsize=(8,4))\n",
    "\n",
    "plt.plot(T_Pt2,np.log10(p_Pt2),'.', color='navy', label='Pt$_2$',markersize=2)\n",
    "plt.plot(T_Pt2O1,np.log10(p_Pt2O1),'.', color='crimson', label='Pt$_2$O$_1$',markersize=2)\n",
    "plt.plot(T_Pt2O2,np.log10(p_Pt2O2),'.', color='blue', label='Pt$_2$O$_2$',markersize=2)\n",
    "plt.plot(T_Pt2O3,np.log10(p_Pt2O3),'.', color='deepskyblue', label='Pt$_2$O$_3$',markersize=2)\n",
    "plt.plot(T_Pt2O4,np.log10(p_Pt2O4),'.', color='cyan', label='Pt$_2$O$_4$',markersize=2)\n",
    "\n",
    "plt.xlim((200,1000))\n",
    "plt.ylim((-12,0))\n",
    "plt.xlabel('T (K)', weight = 'normal', size = 16)\n",
    "plt.ylabel('log(P/P$^o$)', weight = 'normal', size = 16)\n",
    "#plt.legend(loc='upper left', bbox_to_anchor=(1, 1.01),prop={'size': 14})\n",
    "\n",
    "plt.annotate('Pt$_2$O$_4$',xy=(400,-2), xytext=(300,-4),horizontalalignment='center', verticalalignment='bottom',size=12)\n",
    "plt.annotate('Pt$_2$O$_3$',xy=(400,-2), xytext=(600,-6),horizontalalignment='center', verticalalignment='bottom',size=12)\n",
    "plt.annotate('Pt$_2$O$_2$',xy=(400,-2), xytext=(900,-10),horizontalalignment='center', verticalalignment='bottom',size=12,color='white')\n",
    "plt.annotate('Pt$_2$',xy=(400,-2), xytext=(980,-11.8),horizontalalignment='center', verticalalignment='bottom',size=12,color='white')\n",
    "\n",
    "plt.savefig('PT_Pt2Ox_Thermo.jpg',dpi=1200,bbox_inches='tight' )\n",
    "plt.show()"
   ]
  },
  {
   "cell_type": "code",
   "execution_count": null,
   "id": "b6c77a3d",
   "metadata": {},
   "outputs": [],
   "source": []
  },
  {
   "cell_type": "code",
   "execution_count": null,
   "id": "ae567e54",
   "metadata": {},
   "outputs": [],
   "source": []
  }
 ],
 "metadata": {
  "kernelspec": {
   "display_name": "Python 3 (ipykernel)",
   "language": "python",
   "name": "python3"
  },
  "language_info": {
   "codemirror_mode": {
    "name": "ipython",
    "version": 3
   },
   "file_extension": ".py",
   "mimetype": "text/x-python",
   "name": "python",
   "nbconvert_exporter": "python",
   "pygments_lexer": "ipython3",
   "version": "3.9.6"
  }
 },
 "nbformat": 4,
 "nbformat_minor": 5
}
