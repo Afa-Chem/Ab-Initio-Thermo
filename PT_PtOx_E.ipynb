{
 "cells": [
  {
   "cell_type": "markdown",
   "id": "d10d261e",
   "metadata": {},
   "source": [
    "# Ab Initio Thermodynamics (Pt$_2$O$_x$)\n",
    "\n",
    "\n",
    "\n",
    "$\n",
    "E_{form} (Pt_xO_y) = \\dfrac{1}{y} \\bigg (E(Pt_xO_y)-E(Pt_x)-\\dfrac{1}{2}yE(O_2) \\bigg )\n",
    "$\n",
    "\n",
    "$\n",
    "\\Delta G(T,p) \\approx y \\ E_{form}(Pt_xO_y) - y \\ \\Delta \\mu_O(T,p)\n",
    "$\n",
    "\n",
    "$\n",
    "\\Delta \\mu_O (T,p) = \\mu_O(T,p) - \\dfrac{1}{2}E(O_2)\n",
    "$\n",
    "\n",
    "$\n",
    "\\mu_O(T,p) = \\mu_O(T,p^0) + \\dfrac{1}{2}  R T \\ log(p/p^0)\n",
    "$"
   ]
  },
  {
   "cell_type": "code",
   "execution_count": 1,
   "id": "cd0df224",
   "metadata": {},
   "outputs": [],
   "source": [
    "import numpy as np\n",
    "import matplotlib.pyplot as plt "
   ]
  },
  {
   "cell_type": "code",
   "execution_count": 2,
   "id": "580a63f5",
   "metadata": {},
   "outputs": [],
   "source": [
    "# Experimental data\n",
    "\n",
    "data = np.array(np.loadtxt(\"O2_JANAF_0-1000.txt\",dtype=np.float64, skiprows=2))\n",
    "T = data[:,0]\n",
    "S = data[:,2]*1.0364E-5\n",
    "dH = data[:,4]\n",
    "dH_zero = (dH-dH[0])*0.01036427230133138\n",
    "G = (dH_zero - T*S)/2"
   ]
  },
  {
   "cell_type": "code",
   "execution_count": 3,
   "id": "17d24b3b",
   "metadata": {},
   "outputs": [],
   "source": [
    "# interpolate the experimental values\n",
    "G1 = np.linspace(G[0],G[1],100, endpoint=False)\n",
    "G2 = np.linspace(G[1],G[2],100, endpoint=False)\n",
    "G3 = np.linspace(G[2],G[3],50, endpoint=False)\n",
    "G4 = np.linspace(G[3],G[5],50, endpoint=False)\n",
    "G5 = np.linspace(G[5],G[6],50, endpoint=False)\n",
    "G6 = np.linspace(G[6],G[7],50, endpoint=False)\n",
    "G7 = np.linspace(G[7],G[8],50, endpoint=False)\n",
    "G8 = np.linspace(G[8],G[9],50, endpoint=False)\n",
    "G9 = np.linspace(G[9],G[10],100, endpoint=False)\n",
    "G10 = np.linspace(G[10],G[11],100, endpoint=False)\n",
    "G11 = np.linspace(G[11],G[12],100, endpoint=False)\n",
    "G12 = np.linspace(G[12],G[13],100, endpoint=False)\n",
    "G13 = np.linspace(G[13],G[14],101)\n",
    "\n",
    "G = np.concatenate((G1,G2,G3,G4,G5,G6,G7,G8,G9,G10,G11,G12,G13))\n",
    "# Temperatures\n",
    "T = np.linspace(0,1000,1001)\n",
    "\n",
    "# pressure values\n",
    "p = np.logspace(-12, 0, num=1001)"
   ]
  },
  {
   "cell_type": "code",
   "execution_count": 4,
   "id": "0eef0511",
   "metadata": {},
   "outputs": [],
   "source": [
    "def omega(mu_O,Efor,n):\n",
    "    omega = Efor - n*mu_O \n",
    "    return omega\n",
    "\n",
    "def mu_O(p,T,G):\n",
    "    k = 8.61733262e-05  # in eV\n",
    "    p0 = 1   # bar\n",
    "    p_part = 0.5*k*T*np.log(p/p0)\n",
    "    mu_O = G + p_part\n",
    "    return mu_O\n"
   ]
  },
  {
   "cell_type": "code",
   "execution_count": 5,
   "id": "dcc08534",
   "metadata": {},
   "outputs": [],
   "source": [
    "EO2 = -9.86450898\n",
    "\n",
    "# Formation energy\n",
    "Pt2 = 0.00000\n",
    "Pt2O1 = -1.51603866\n",
    "Pt2O2 = -3.71682776\n",
    "Pt2O3 = -5.1107872\n",
    "Pt2O4 = -5.70881781"
   ]
  },
  {
   "cell_type": "code",
   "execution_count": 6,
   "id": "689a927d",
   "metadata": {},
   "outputs": [],
   "source": [
    "# Pt2O1\n",
    "\n",
    "pT = []\n",
    "for i in range(len(T)):  # runs on temperatures\n",
    "    for j in range(len(p)):  # runs on pressures\n",
    "        ji = [p[j],T[i]]\n",
    "        pT.append(ji)\n",
    "\n",
    "potential_oxygen1 = []\n",
    "omega_Pt2O1 = []\n",
    "for i in range(len(T)):  # runs on temperatures\n",
    "    for j in range(len(p)):  # runs on pressures\n",
    "        potential_ith = mu_O(p[j],T[i],G[i])\n",
    "        omega_ith = omega(potential_ith,Pt2O1,1)\n",
    "        potential_oxygen1.append(potential_ith)\n",
    "        omega_Pt2O1.append(omega_ith)\n",
    "\n",
    "        \n",
    "# Pt2O2\n",
    "potential_oxygen2 = []\n",
    "pT2 = []\n",
    "omega_Pt2O2 = []\n",
    "for i in range(len(T)):\n",
    "    for j in range(len(p)):\n",
    "        potential_ith = mu_O(p[j],T[i],G[i])\n",
    "        omega_ith = omega(potential_ith,Pt2O2,2)\n",
    "        potential_oxygen2.append(potential_ith)\n",
    "        omega_Pt2O2.append(omega_ith)\n",
    "        \n",
    "# Pt2O3\n",
    "potential_oxygen3 = []\n",
    "omega_Pt2O3 = []\n",
    "for i in range(len(T)): \n",
    "    for j in range(len(p)):\n",
    "        potential_ith = mu_O(p[j],T[i],G[i])\n",
    "        omega_ith = omega(potential_ith,Pt2O3,3)\n",
    "        potential_oxygen3.append(potential_ith)\n",
    "        omega_Pt2O3.append(omega_ith)\n",
    "        \n",
    "# Pt2O4\n",
    "potential_oxygen4 = []\n",
    "omega_Pt2O4 = []\n",
    "for i in range(len(T)):\n",
    "    for j in range(len(p)):\n",
    "        potential_ith = mu_O(p[j],T[i],G[i])\n",
    "        ij = [T[i],p[j]]\n",
    "        omega_ith = omega(potential_ith,Pt2O4,4)\n",
    "        potential_oxygen4.append(potential_ith)\n",
    "        omega_Pt2O4.append(omega_ith)\n",
    "        \n",
    "# Pt2\n",
    "omega_Pt2 = np.zeros(len(omega_Pt2O4))"
   ]
  },
  {
   "cell_type": "code",
   "execution_count": 7,
   "id": "13edb9de",
   "metadata": {},
   "outputs": [],
   "source": [
    "# Comparison \n",
    "\n",
    "min_Pt2 = []\n",
    "min_Pt2O1 = []\n",
    "min_Pt2O2 = []\n",
    "min_Pt2O3 = []\n",
    "min_Pt2O4 = []\n",
    "\n",
    "for k in range(len(omega_Pt2)):\n",
    "    omega_cluster = [omega_Pt2[k],omega_Pt2O1[k],omega_Pt2O2[k],omega_Pt2O3[k],omega_Pt2O4[k]]\n",
    "    min_cluster = omega_cluster.index(min(omega_cluster))\n",
    "    if min_cluster == 0:\n",
    "        min_Pt2.append(pT[k])\n",
    "    elif min_cluster == 1:\n",
    "        min_Pt2O1.append(pT[k])\n",
    "    elif min_cluster == 2:\n",
    "        min_Pt2O2.append(pT[k])\n",
    "    elif min_cluster == 3:\n",
    "        min_Pt2O3.append(pT[k])\n",
    "    elif min_cluster == 4:\n",
    "        min_Pt2O4.append(pT[k])"
   ]
  },
  {
   "cell_type": "code",
   "execution_count": 8,
   "id": "50232b9f",
   "metadata": {},
   "outputs": [],
   "source": [
    "p_Pt2 = [row[0] for row in min_Pt2]\n",
    "T_Pt2 = [row[1] for row in min_Pt2]\n",
    "\n",
    "p_Pt2O1 = [row[0] for row in min_Pt2O1]\n",
    "T_Pt2O1 = [row[1] for row in min_Pt2O1]\n",
    "\n",
    "p_Pt2O2 = [row[0] for row in min_Pt2O2]\n",
    "T_Pt2O2 = [row[1] for row in min_Pt2O2]\n",
    "\n",
    "p_Pt2O3 = [row[0] for row in min_Pt2O3]\n",
    "T_Pt2O3 = [row[1] for row in min_Pt2O3]\n",
    "\n",
    "p_Pt2O4 = [row[0] for row in min_Pt2O4]\n",
    "T_Pt2O4 = [row[1] for row in min_Pt2O4]"
   ]
  },
  {
   "cell_type": "code",
   "execution_count": 9,
   "id": "de7b0987",
   "metadata": {
    "scrolled": false
   },
   "outputs": [
    {
     "data": {
      "image/png": "[encoded data removed]",
      "text/plain": [
       "<Figure size 800x400 with 1 Axes>"
      ]
     },
     "metadata": {},
     "output_type": "display_data"
    }
   ],
   "source": [
    "fig = plt.figure(figsize=(8,4))\n",
    "\n",
    "plt.plot(T_Pt2,np.log10(p_Pt2),'.', color='navy', label='Pt$_2$',markersize=2)\n",
    "plt.plot(T_Pt2O1,np.log10(p_Pt2O1),'.', color='crimson', label='Pt$_2$O$_1$',markersize=2)\n",
    "plt.plot(T_Pt2O2,np.log10(p_Pt2O2),'.', color='blue', label='Pt$_2$O$_2$',markersize=2)\n",
    "plt.plot(T_Pt2O3,np.log10(p_Pt2O3),'.', color='deepskyblue', label='Pt$_2$O$_3$',markersize=2)\n",
    "plt.plot(T_Pt2O4,np.log10(p_Pt2O4),'.', color='cyan', label='Pt$_2$O$_4$',markersize=2)\n",
    "\n",
    "plt.xlim((200,1000))\n",
    "plt.ylim((-12,0))\n",
    "plt.xlabel('T (K)', weight = 'normal', size = 16)\n",
    "plt.ylabel('log(P/P$^o$)', weight = 'normal', size = 16)\n",
    "#plt.legend(loc='upper left', bbox_to_anchor=(1, 1.01),prop={'size': 14})\n",
    "\n",
    "plt.annotate('Pt$_2$O$_4$',xy=(400,-2), xytext=(300,-4),horizontalalignment='center', verticalalignment='bottom',size=12)\n",
    "plt.annotate('Pt$_2$O$_3$',xy=(400,-2), xytext=(600,-6),horizontalalignment='center', verticalalignment='bottom',size=12)\n",
    "plt.annotate('Pt$_2$O$_2$',xy=(400,-2), xytext=(850,-9),horizontalalignment='center', verticalalignment='bottom',size=12,color='white')\n",
    "plt.annotate('Pt$_2$',xy=(400,-2), xytext=(950,-11),horizontalalignment='center', verticalalignment='bottom',size=12,color='white')\n",
    "\n",
    "\n",
    "plt.savefig('PT_Pt2Ox.jpg',dpi=1200,bbox_inches='tight' )\n",
    "plt.show()"
   ]
  }
 ],
 "metadata": {
  "kernelspec": {
   "display_name": "Python 3 (ipykernel)",
   "language": "python",
   "name": "python3"
  },
  "language_info": {
   "codemirror_mode": {
    "name": "ipython",
    "version": 3
   },
   "file_extension": ".py",
   "mimetype": "text/x-python",
   "name": "python",
   "nbconvert_exporter": "python",
   "pygments_lexer": "ipython3",
   "version": "3.9.6"
  }
 },
 "nbformat": 4,
 "nbformat_minor": 5
}
