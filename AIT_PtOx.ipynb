{
 "cells": [
  {
   "cell_type": "markdown",
   "id": "d10d261e",
   "metadata": {},
   "source": [
    "### Pt$_x$O$_y$\n",
    "\n",
    "$$\n",
    "E_{form} (Pt_xO_y) = \\dfrac{1}{y} \\bigg (E(Pt_xO_y)-E(Pt_x)-\\dfrac{1}{2}yE(O_2) \\bigg )\n",
    "$$\n",
    "\n",
    "$$\n",
    "\\Delta G(T,p) \\approx y \\ E_{form}(Pt_xO_y) - y \\ \\Delta \\mu_O(T,p)\n",
    "$$\n",
    "\n",
    "$$\n",
    "\\Delta \\mu_O (T,p) = \\mu_O(T,p) - \\dfrac{1}{2}E(O_2)\n",
    "$$\n",
    "\n",
    "$$\n",
    "\\mu_O(T,p) = \\mu_O(T,p^0) + \\dfrac{1}{2}  R T \\ log(p/p^0)\n",
    "$$"
   ]
  },
  {
   "cell_type": "code",
   "execution_count": 56,
   "id": "cd0df224",
   "metadata": {},
   "outputs": [],
   "source": [
    "import numpy as np\n",
    "import matplotlib.pyplot as plt "
   ]
  },
  {
   "cell_type": "code",
   "execution_count": 57,
   "id": "580a63f5",
   "metadata": {},
   "outputs": [],
   "source": [
    "#Calculating the chemical potential for O at the standard pressure \n",
    "\n",
    "data = np.array(np.loadtxt(\"JANAF_simplified.txt\",dtype=np.float64, skiprows=2))\n",
    "T = data[:,0]\n",
    "S = data[:,2]*1.0364E-5\n",
    "dH = data[:,4]\n",
    "dH_zero = (dH- dH[0])*0.01036427230133138\n",
    "G = (dH_zero - T*S)/2"
   ]
  },
  {
   "cell_type": "code",
   "execution_count": 58,
   "id": "0eef0511",
   "metadata": {},
   "outputs": [],
   "source": [
    "def omega(mu_O,Efor,n):\n",
    "    omega = Efor - n*mu_O \n",
    "    return omega\n",
    "\n",
    "def mu_O(p,T,G):\n",
    "    k = 8.61733262e-05  # in eV\n",
    "    p0 = 1   # bar\n",
    "    p_part = 0.5*k*T*np.log(p/p0)\n",
    "    mu_O = G + p_part\n",
    "    return mu_O"
   ]
  },
  {
   "cell_type": "code",
   "execution_count": 59,
   "id": "dcc08534",
   "metadata": {},
   "outputs": [],
   "source": [
    "EO2 = -9.85649202\n",
    "\n",
    "# Formation energy\n",
    "\n",
    "Pt2O1 = -1.52772404\n",
    "Pt2O2 = -3.74433674\n",
    "Pt2O3 = -5.1620862\n",
    "Pt2O4 = -5.75666473"
   ]
  },
  {
   "cell_type": "code",
   "execution_count": 55,
   "id": "abe0575e",
   "metadata": {},
   "outputs": [
    {
     "name": "stdout",
     "output_type": "stream",
     "text": [
      "-0.9561637756656163 -2.6012162113312325 -3.4474054069968485 -3.4704236726624647\n"
     ]
    }
   ],
   "source": [
    "muO = mu_O(1e-10,T[5],G[5])\n",
    "\n",
    "omegaO1 = omega(muO,Pt2O1,1)\n",
    "omegaO2 = omega(muO,Pt2O2,2)\n",
    "omegaO3 = omega(muO,Pt2O3,3)\n",
    "omegaO4 = omega(muO,Pt2O4,4)\n",
    "\n",
    "print(omegaO1,omegaO2,omegaO3,omegaO4)"
   ]
  },
  {
   "cell_type": "code",
   "execution_count": 60,
   "id": "965fbfcf",
   "metadata": {},
   "outputs": [
    {
     "data": {
      "text/plain": [
       "15"
      ]
     },
     "execution_count": 60,
     "metadata": {},
     "output_type": "execute_result"
    }
   ],
   "source": [
    "len(T)"
   ]
  },
  {
   "cell_type": "code",
   "execution_count": 52,
   "id": "5a73e998",
   "metadata": {},
   "outputs": [
    {
     "data": {
      "text/plain": [
       "300.0"
      ]
     },
     "execution_count": 52,
     "metadata": {},
     "output_type": "execute_result"
    }
   ],
   "source": [
    "T[5]"
   ]
  },
  {
   "cell_type": "code",
   "execution_count": 33,
   "id": "05867755",
   "metadata": {},
   "outputs": [
    {
     "data": {
      "text/plain": [
       "-1.3254983931856157"
      ]
     },
     "execution_count": 33,
     "metadata": {},
     "output_type": "execute_result"
    }
   ],
   "source": [
    "# UHV \n",
    "\n",
    "p_UHV = 1e-12\n",
    "T_room = T[10]\n",
    "\n",
    "mu_TP = G[10] + p_part(p_UHV,T_room)\n",
    "mu_TP"
   ]
  },
  {
   "cell_type": "code",
   "execution_count": 132,
   "id": "00efdea3",
   "metadata": {},
   "outputs": [
    {
     "data": {
      "text/plain": [
       "-5.7393513947597725"
      ]
     },
     "execution_count": 132,
     "metadata": {},
     "output_type": "execute_result"
    }
   ],
   "source": [
    "# UHV \n",
    "\n",
    "p_UHV = 1e-7\n",
    "T_room = T[4]\n",
    "\n",
    "mu_TP = G[4] + p_part(p_UHV,T_room)\n",
    "dmu = mu_TP + (0.5*EO2)\n",
    "dmu"
   ]
  },
  {
   "cell_type": "code",
   "execution_count": 98,
   "id": "b2c39385",
   "metadata": {},
   "outputs": [],
   "source": [
    "R = 8.31446261815324\n",
    "convert = 0.01036427230133138  # kJ to eV"
   ]
  },
  {
   "cell_type": "code",
   "execution_count": 30,
   "id": "9918ccb5",
   "metadata": {},
   "outputs": [
    {
     "data": {
      "text/plain": [
       "array([   0.  ,  100.  ,  200.  ,  250.  ,  298.15,  300.  ,  350.  ,\n",
       "        400.  ,  450.  ,  500.  ,  600.  ,  700.  ,  800.  ,  900.  ,\n",
       "       1000.  ])"
      ]
     },
     "execution_count": 30,
     "metadata": {},
     "output_type": "execute_result"
    }
   ],
   "source": [
    "T"
   ]
  },
  {
   "cell_type": "code",
   "execution_count": 32,
   "id": "bd54e8cd",
   "metadata": {},
   "outputs": [],
   "source": [
    "p = [1E5,1E4,1E3,1E2,1E1,1,1E-1,1E-2,1E-3,1E-4,1E-5,1E-6,1E-7]"
   ]
  },
  {
   "cell_type": "code",
   "execution_count": 33,
   "id": "528c16fe",
   "metadata": {},
   "outputs": [
    {
     "data": {
      "text/plain": [
       "298.15"
      ]
     },
     "execution_count": 33,
     "metadata": {},
     "output_type": "execute_result"
    }
   ],
   "source": [
    "T[4]"
   ]
  },
  {
   "cell_type": "code",
   "execution_count": null,
   "id": "926dcdf0",
   "metadata": {},
   "outputs": [],
   "source": [
    "# Formation energy\n",
    "\n",
    "Pt2O1 = -1.52772404\n",
    "Pt2O2 = -1.87216837\n",
    "Pt2O3 = -1.7206954\n",
    "Pt2O4 = -1.439166183"
   ]
  },
  {
   "cell_type": "code",
   "execution_count": 34,
   "id": "eb71c8d4",
   "metadata": {},
   "outputs": [],
   "source": [
    "def mu_O2(T,dH,S):\n",
    "    mu = (dH*0.010364) - (T*S*1.0364E-5)\n",
    "        \n",
    "    return mu\n",
    "\n",
    "def p_part(p,T):\n",
    "    R = 8.31446261815324\n",
    "    p0 = 10**5\n",
    "    p_part = R*T*np.log10(p/p0)\n",
    "    result = p_part*1.0364E-5\n",
    "    \n",
    "    return result\n"
   ]
  },
  {
   "cell_type": "code",
   "execution_count": null,
   "id": "b6c77a3d",
   "metadata": {},
   "outputs": [],
   "source": []
  },
  {
   "cell_type": "code",
   "execution_count": null,
   "id": "ae567e54",
   "metadata": {},
   "outputs": [],
   "source": []
  },
  {
   "cell_type": "code",
   "execution_count": null,
   "id": "8249691e",
   "metadata": {},
   "outputs": [],
   "source": []
  }
 ],
 "metadata": {
  "kernelspec": {
   "display_name": "Python 3 (ipykernel)",
   "language": "python",
   "name": "python3"
  },
  "language_info": {
   "codemirror_mode": {
    "name": "ipython",
    "version": 3
   },
   "file_extension": ".py",
   "mimetype": "text/x-python",
   "name": "python",
   "nbconvert_exporter": "python",
   "pygments_lexer": "ipython3",
   "version": "3.9.6"
  }
 },
 "nbformat": 4,
 "nbformat_minor": 5
}
